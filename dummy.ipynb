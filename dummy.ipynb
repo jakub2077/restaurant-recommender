{
 "cells": [
  {
   "cell_type": "code",
   "execution_count": 1,
   "metadata": {},
   "outputs": [],
   "source": [
    "import os\n",
    "import json\n",
    "import pandas as pd\n",
    "import numpy as np\n",
    "import torch\n",
    "import torch.nn.functional as F\n",
    "from sklearn.preprocessing import LabelEncoder\n",
    "from torch_geometric.nn import GCNConv\n",
    "from torch_geometric.data import Data\n",
    "import torch.nn as nn"
   ]
  },
  {
   "cell_type": "code",
   "execution_count": 2,
   "metadata": {},
   "outputs": [
    {
     "name": "stdout",
     "output_type": "stream",
     "text": [
      "buinesses_df loaded\n",
      "reviews_df loaded\n",
      "Filter businesses by category (e.g., restaurants)\n",
      "Extract unique restaurant IDs and create a dictionary mapping them to indices\n"
     ]
    }
   ],
   "source": [
    "# Load the Yelp businesses and reviews datasets\n",
    "businesses_df = pd.read_feather(os.path.join('data', 'yelp', 'yelp_academic_dataset_business.feather'),)\n",
    "print('buinesses_df loaded')\n",
    "\n",
    "reviews_df = pd.read_feather(os.path.join('data', 'yelp', 'yelp_academic_dataset_review.feather'))\n",
    "print('reviews_df loaded')\n",
    "\n",
    "# Filter businesses by category (e.g., restaurants)\n",
    "print('Filter businesses by category (e.g., restaurants)')\n",
    "businesses_df = businesses_df.where(businesses_df['categories'].str.contains('Restaurants', na=False)).dropna()\n",
    "\n",
    "# Extract unique restaurant IDs and create a dictionary mapping them to indices\n",
    "print('Extract unique restaurant IDs and create a dictionary mapping them to indices')\n",
    "restaurant_ids = businesses_df['business_id'].unique().tolist()\n",
    "num_restaurants = len(restaurant_ids)\n",
    "\n",
    "# Encode the restaurant IDs \n",
    "restaurant_indices = dict(zip(restaurant_ids, range(num_restaurants)))\n",
    "restaurant_indices_inv = {v: k for k, v in restaurant_indices.items()}"
   ]
  },
  {
   "cell_type": "code",
   "execution_count": 7,
   "metadata": {},
   "outputs": [],
   "source": [
    "reviews_df = reviews_df[['review_id', 'user_id', 'business_id', 'stars', 'text']]\n",
    "top20k = businesses_df['business_id'].value_counts()[:20000].index.tolist()"
   ]
  },
  {
   "cell_type": "code",
   "execution_count": 9,
   "metadata": {},
   "outputs": [],
   "source": [
    "reviews_subdf = reviews_df[reviews_df['user_id'].isin(top20k)]\n",
    "businesses_subdf = businesses_df[businesses_df['business_id'].isin(top20k)]"
   ]
  },
  {
   "cell_type": "code",
   "execution_count": 10,
   "metadata": {},
   "outputs": [
    {
     "name": "stderr",
     "output_type": "stream",
     "text": [
      "C:\\Users\\jbart\\AppData\\Local\\Temp\\ipykernel_7636\\1888835171.py:2: SettingWithCopyWarning: \n",
      "A value is trying to be set on a copy of a slice from a DataFrame.\n",
      "Try using .loc[row_indexer,col_indexer] = value instead\n",
      "\n",
      "See the caveats in the documentation: https://pandas.pydata.org/pandas-docs/stable/user_guide/indexing.html#returning-a-view-versus-a-copy\n",
      "  businesses_subdf['categories'] = businesses_subdf['categories'].astype(str)\n",
      "C:\\Users\\jbart\\AppData\\Local\\Temp\\ipykernel_7636\\1888835171.py:6: SettingWithCopyWarning: \n",
      "A value is trying to be set on a copy of a slice from a DataFrame.\n",
      "Try using .loc[row_indexer,col_indexer] = value instead\n",
      "\n",
      "See the caveats in the documentation: https://pandas.pydata.org/pandas-docs/stable/user_guide/indexing.html#returning-a-view-versus-a-copy\n",
      "  businesses_subdf['categories'] = label_encoder.fit_transform(businesses_subdf['categories'])\n"
     ]
    }
   ],
   "source": [
    "# Convert categories to string type\n",
    "businesses_subdf['categories'] = businesses_subdf['categories'].astype(str)\n",
    "\n",
    "# Encode the categorical features using label encoding\n",
    "label_encoder = LabelEncoder()\n",
    "businesses_subdf['categories'] = label_encoder.fit_transform(businesses_subdf['categories'])\n"
   ]
  },
  {
   "cell_type": "code",
   "execution_count": 12,
   "metadata": {},
   "outputs": [
    {
     "data": {
      "text/plain": [
       "Index(['business_id', 'name', 'address', 'city', 'state', 'postal_code',\n",
       "       'latitude', 'longitude', 'stars', 'review_count', 'is_open',\n",
       "       'attributes', 'categories', 'hours'],\n",
       "      dtype='object')"
      ]
     },
     "execution_count": 12,
     "metadata": {},
     "output_type": "execute_result"
    }
   ],
   "source": [
    "businesses_subdf.columns"
   ]
  },
  {
   "cell_type": "code",
   "execution_count": 13,
   "metadata": {},
   "outputs": [],
   "source": [
    "# Convert the node_features array to a suitable data type\n",
    "node_features = businesses_subdf[['categories', 'review_count', 'stars']].values.astype(np.float32)\n",
    "node_features = torch.FloatTensor(node_features)\n",
    "reviews_subdf = reviews_subdf.merge(businesses_subdf[['business_id']], on='business_id')\n",
    "restaurant_ratings = reviews_subdf.groupby(['business_id', 'user_id'])['stars'].mean().reset_index()\n",
    "\n",
    "# reviews_df = reviews_df.merge(businesses_df[['business_id']], on='business_id')\n",
    "# restaurant_ratings = reviews_df.groupby(['business_id', 'user_id'])['stars'].mean().reset_index()\n",
    "\n",
    "# Create a sparse tensor representing the restaurant ratings\n",
    "\n",
    "restaurant_ratings = restaurant_ratings.dropna(subset=['business_id', 'user_id'])\n",
    "user_ratings_df = restaurant_ratings.pivot(index='business_id', columns='user_id', values='stars').fillna(0)\n",
    "user_ratings_df = user_ratings_df.rename(index=restaurant_indices_inv)\n",
    "user_ratings = torch.FloatTensor(user_ratings_df.values)\n",
    "\n",
    "# Create adjacency matrix and node features\n",
    "adjacency_matrix = torch.zeros((num_restaurants, num_restaurants))\n",
    "for _, row in businesses_subdf.iterrows():\n",
    "    i = restaurant_indices[row['business_id']]\n",
    "    j = restaurant_indices[row['business_id']]\n",
    "    adjacency_matrix[i, j] = 1\n",
    "    adjacency_matrix[j, i] = 1\n",
    "\n",
    "node_features = businesses_subdf[['categories', 'review_count', 'stars']].values\n",
    "node_features = torch.FloatTensor(node_features)"
   ]
  },
  {
   "cell_type": "code",
   "execution_count": 17,
   "metadata": {},
   "outputs": [],
   "source": [
    "# Define the YelpGNN model\n",
    "class YelpGNN(nn.Module):\n",
    "    def __init__(self, num_features, hidden_channels):\n",
    "        super(YelpGNN, self).__init__()\n",
    "        self.conv1 = GCNConv(num_features, hidden_channels)\n",
    "        self.conv2 = GCNConv(hidden_channels, hidden_channels)\n",
    "        self.fc = nn.Linear(hidden_channels, 1)\n",
    "\n",
    "    def forward(self, x, edge_index):\n",
    "        x = self.conv1(x, edge_index)\n",
    "        x = F.relu(x)\n",
    "        x = self.conv2(x, edge_index)\n",
    "        x = F.relu(x)\n",
    "        x = self.fc(x)\n",
    "        return x\n",
    "\n",
    "\n"
   ]
  },
  {
   "cell_type": "code",
   "execution_count": 18,
   "metadata": {},
   "outputs": [
    {
     "name": "stderr",
     "output_type": "stream",
     "text": [
      "c:\\agh\\MAGISTERKA\\restaurant-recommender\\venv\\lib\\site-packages\\torch\\nn\\modules\\loss.py:536: UserWarning: Using a target size (torch.Size([377, 194])) that is different to the input size (torch.Size([20000, 1])). This will likely lead to incorrect results due to broadcasting. Please ensure they have the same size.\n",
      "  return F.mse_loss(input, target, reduction=self.reduction)\n"
     ]
    },
    {
     "ename": "RuntimeError",
     "evalue": "The size of tensor a (20000) must match the size of tensor b (377) at non-singleton dimension 0",
     "output_type": "error",
     "traceback": [
      "\u001b[1;31m---------------------------------------------------------------------------\u001b[0m",
      "\u001b[1;31mRuntimeError\u001b[0m                              Traceback (most recent call last)",
      "Cell \u001b[1;32mIn[18], line 15\u001b[0m\n\u001b[0;32m     13\u001b[0m optimizer\u001b[39m.\u001b[39mzero_grad()\n\u001b[0;32m     14\u001b[0m output \u001b[39m=\u001b[39m model(data\u001b[39m.\u001b[39mx, data\u001b[39m.\u001b[39medge_index)\n\u001b[1;32m---> 15\u001b[0m loss \u001b[39m=\u001b[39m criterion(output, user_ratings)\n\u001b[0;32m     17\u001b[0m \u001b[39m# Add regularization terms to the loss function to encourage diversity in the recommendations\u001b[39;00m\n\u001b[0;32m     18\u001b[0m user_embeddings \u001b[39m=\u001b[39m model\u001b[39m.\u001b[39mconv2(model\u001b[39m.\u001b[39mconv1(data\u001b[39m.\u001b[39mx, data\u001b[39m.\u001b[39medge_index))\n",
      "File \u001b[1;32mc:\\agh\\MAGISTERKA\\restaurant-recommender\\venv\\lib\\site-packages\\torch\\nn\\modules\\module.py:1501\u001b[0m, in \u001b[0;36mModule._call_impl\u001b[1;34m(self, *args, **kwargs)\u001b[0m\n\u001b[0;32m   1496\u001b[0m \u001b[39m# If we don't have any hooks, we want to skip the rest of the logic in\u001b[39;00m\n\u001b[0;32m   1497\u001b[0m \u001b[39m# this function, and just call forward.\u001b[39;00m\n\u001b[0;32m   1498\u001b[0m \u001b[39mif\u001b[39;00m \u001b[39mnot\u001b[39;00m (\u001b[39mself\u001b[39m\u001b[39m.\u001b[39m_backward_hooks \u001b[39mor\u001b[39;00m \u001b[39mself\u001b[39m\u001b[39m.\u001b[39m_backward_pre_hooks \u001b[39mor\u001b[39;00m \u001b[39mself\u001b[39m\u001b[39m.\u001b[39m_forward_hooks \u001b[39mor\u001b[39;00m \u001b[39mself\u001b[39m\u001b[39m.\u001b[39m_forward_pre_hooks\n\u001b[0;32m   1499\u001b[0m         \u001b[39mor\u001b[39;00m _global_backward_pre_hooks \u001b[39mor\u001b[39;00m _global_backward_hooks\n\u001b[0;32m   1500\u001b[0m         \u001b[39mor\u001b[39;00m _global_forward_hooks \u001b[39mor\u001b[39;00m _global_forward_pre_hooks):\n\u001b[1;32m-> 1501\u001b[0m     \u001b[39mreturn\u001b[39;00m forward_call(\u001b[39m*\u001b[39margs, \u001b[39m*\u001b[39m\u001b[39m*\u001b[39mkwargs)\n\u001b[0;32m   1502\u001b[0m \u001b[39m# Do not call functions when jit is used\u001b[39;00m\n\u001b[0;32m   1503\u001b[0m full_backward_hooks, non_full_backward_hooks \u001b[39m=\u001b[39m [], []\n",
      "File \u001b[1;32mc:\\agh\\MAGISTERKA\\restaurant-recommender\\venv\\lib\\site-packages\\torch\\nn\\modules\\loss.py:536\u001b[0m, in \u001b[0;36mMSELoss.forward\u001b[1;34m(self, input, target)\u001b[0m\n\u001b[0;32m    535\u001b[0m \u001b[39mdef\u001b[39;00m \u001b[39mforward\u001b[39m(\u001b[39mself\u001b[39m, \u001b[39minput\u001b[39m: Tensor, target: Tensor) \u001b[39m-\u001b[39m\u001b[39m>\u001b[39m Tensor:\n\u001b[1;32m--> 536\u001b[0m     \u001b[39mreturn\u001b[39;00m F\u001b[39m.\u001b[39;49mmse_loss(\u001b[39minput\u001b[39;49m, target, reduction\u001b[39m=\u001b[39;49m\u001b[39mself\u001b[39;49m\u001b[39m.\u001b[39;49mreduction)\n",
      "File \u001b[1;32mc:\\agh\\MAGISTERKA\\restaurant-recommender\\venv\\lib\\site-packages\\torch\\nn\\functional.py:3294\u001b[0m, in \u001b[0;36mmse_loss\u001b[1;34m(input, target, size_average, reduce, reduction)\u001b[0m\n\u001b[0;32m   3291\u001b[0m \u001b[39mif\u001b[39;00m size_average \u001b[39mis\u001b[39;00m \u001b[39mnot\u001b[39;00m \u001b[39mNone\u001b[39;00m \u001b[39mor\u001b[39;00m reduce \u001b[39mis\u001b[39;00m \u001b[39mnot\u001b[39;00m \u001b[39mNone\u001b[39;00m:\n\u001b[0;32m   3292\u001b[0m     reduction \u001b[39m=\u001b[39m _Reduction\u001b[39m.\u001b[39mlegacy_get_string(size_average, reduce)\n\u001b[1;32m-> 3294\u001b[0m expanded_input, expanded_target \u001b[39m=\u001b[39m torch\u001b[39m.\u001b[39;49mbroadcast_tensors(\u001b[39minput\u001b[39;49m, target)\n\u001b[0;32m   3295\u001b[0m \u001b[39mreturn\u001b[39;00m torch\u001b[39m.\u001b[39m_C\u001b[39m.\u001b[39m_nn\u001b[39m.\u001b[39mmse_loss(expanded_input, expanded_target, _Reduction\u001b[39m.\u001b[39mget_enum(reduction))\n",
      "File \u001b[1;32mc:\\agh\\MAGISTERKA\\restaurant-recommender\\venv\\lib\\site-packages\\torch\\functional.py:74\u001b[0m, in \u001b[0;36mbroadcast_tensors\u001b[1;34m(*tensors)\u001b[0m\n\u001b[0;32m     72\u001b[0m \u001b[39mif\u001b[39;00m has_torch_function(tensors):\n\u001b[0;32m     73\u001b[0m     \u001b[39mreturn\u001b[39;00m handle_torch_function(broadcast_tensors, tensors, \u001b[39m*\u001b[39mtensors)\n\u001b[1;32m---> 74\u001b[0m \u001b[39mreturn\u001b[39;00m _VF\u001b[39m.\u001b[39;49mbroadcast_tensors(tensors)\n",
      "\u001b[1;31mRuntimeError\u001b[0m: The size of tensor a (20000) must match the size of tensor b (377) at non-singleton dimension 0"
     ]
    }
   ],
   "source": [
    "\n",
    "\n",
    "# Create the YelpGNN model instance\n",
    "hidden_channels = 64\n",
    "model = YelpGNN(node_features.shape[1], hidden_channels)\n",
    "data = Data(x=node_features, edge_index=adjacency_matrix.nonzero().t().long())\n",
    "\n",
    "# Set up the optimizer and loss function\n",
    "optimizer = torch.optim.Adam(model.parameters(), lr=0.01)\n",
    "criterion = torch.nn.MSELoss()\n",
    "\n",
    "# Train the model\n",
    "for epoch in range(1):\n",
    "    model.train()\n",
    "    optimizer.zero_grad()\n",
    "    output = model(data.x, data.edge_index)\n",
    "    loss = criterion(output, user_ratings)\n",
    "\n",
    "    # Add regularization terms to the loss function to encourage diversity in the recommendations\n",
    "    user_embeddings = model.conv2(model.conv1(data.x, data.edge_index))\n",
    "    user_embeddings = user_embeddings[:num_restaurants] / torch.norm(user_embeddings[:num_restaurants], dim=1, keepdim=True)\n",
    "    item_embeddings = data.x[:num_restaurants]\n",
    "    item_embeddings = item_embeddings / torch.norm(item_embeddings, dim=1, keepdim=True)\n",
    "    diversity_loss = -torch.mean(torch.matmul(user_embeddings, item_embeddings.t()))\n",
    "    loss += 0.01 * diversity_loss\n",
    "\n",
    "    loss.backward()\n",
    "    optimizer.step()\n",
    "\n",
    "    if epoch % 10 == 0:\n",
    "        print(\"Epoch {:03d}, Loss: {:.4f}\".format(epoch, loss.item()))"
   ]
  },
  {
   "cell_type": "code",
   "execution_count": 16,
   "metadata": {},
   "outputs": [],
   "source": []
  },
  {
   "cell_type": "code",
   "execution_count": null,
   "metadata": {},
   "outputs": [],
   "source": []
  }
 ],
 "metadata": {
  "kernelspec": {
   "display_name": "venv",
   "language": "python",
   "name": "python3"
  },
  "language_info": {
   "codemirror_mode": {
    "name": "ipython",
    "version": 3
   },
   "file_extension": ".py",
   "mimetype": "text/x-python",
   "name": "python",
   "nbconvert_exporter": "python",
   "pygments_lexer": "ipython3",
   "version": "3.9.10"
  },
  "orig_nbformat": 4
 },
 "nbformat": 4,
 "nbformat_minor": 2
}
