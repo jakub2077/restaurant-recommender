{
 "cells": [
  {
   "cell_type": "code",
   "execution_count": 9,
   "metadata": {},
   "outputs": [],
   "source": [
    "import json\n",
    "from tqdm import tqdm\n",
    "\n",
    "import pandas as pd\n",
    "import numpy as np\n",
    "import matplotlib.pyplot as plt\n",
    "from sklearn.metrics import ndcg_score\n",
    "\n",
    "import torch\n",
    "from torch import nn\n",
    "import torch.nn.functional as F\n",
    "from torch_geometric.nn import GCNConv, SAGEConv, HeteroConv, to_hetero\n",
    "from torch_geometric.data import HeteroData\n",
    "from torch_geometric.loader import LinkNeighborLoader\n",
    "from torch_geometric.utils.convert import to_networkx\n",
    "import torch_geometric.transforms as T\n"
   ]
  },
  {
   "cell_type": "code",
   "execution_count": 1,
   "metadata": {},
   "outputs": [],
   "source": [
    "from torch_geometric.datasets import MovieLens\n",
    "dataset = MovieLens('data/movielens/', model_name='all-MiniLM-L6-v2')\n"
   ]
  },
  {
   "cell_type": "code",
   "execution_count": 12,
   "metadata": {},
   "outputs": [],
   "source": [
    "data = torch.load('data/yelp-hetero.pt')"
   ]
  },
  {
   "cell_type": "code",
   "execution_count": 13,
   "metadata": {},
   "outputs": [
    {
     "data": {
      "text/plain": [
       "HeteroData(\n",
       "  \u001b[1muser\u001b[0m={\n",
       "    node_id=[290714],\n",
       "    x=[290714, 5]\n",
       "  },\n",
       "  \u001b[1mrestaurant\u001b[0m={\n",
       "    node_id=[31217],\n",
       "    x=[31217, 640]\n",
       "  },\n",
       "  \u001b[1m(user, rating, restaurant)\u001b[0m={\n",
       "    edge_index=[2, 596895],\n",
       "    edge_label=[596895]\n",
       "  },\n",
       "  \u001b[1m(restaurant, rev_rating, user)\u001b[0m={ edge_index=[2, 596895] }\n",
       ")"
      ]
     },
     "execution_count": 13,
     "metadata": {},
     "output_type": "execute_result"
    }
   ],
   "source": [
    "data"
   ]
  },
  {
   "cell_type": "code",
   "execution_count": 35,
   "metadata": {},
   "outputs": [],
   "source": [
    "weight = torch.bincount(data['user', 'rating', 'restaurant'].edge_label.int())\n",
    "weight = weight.max() / weight"
   ]
  },
  {
   "cell_type": "code",
   "execution_count": 36,
   "metadata": {},
   "outputs": [
    {
     "data": {
      "text/plain": [
       "tensor([   inf, 3.8545, 6.1450, 4.8445, 2.3577, 1.0000])"
      ]
     },
     "execution_count": 36,
     "metadata": {},
     "output_type": "execute_result"
    }
   ],
   "source": [
    "weight"
   ]
  },
  {
   "cell_type": "code",
   "execution_count": 10,
   "metadata": {},
   "outputs": [],
   "source": [
    "with open('data/yelp-hetero-meta.json', 'r') as f:\n",
    "    meta_data = json.load(f)\n",
    "num_users = meta_data['num_users']\n",
    "num_restaurants = meta_data['num_restaurants']\n",
    "user_mapping = meta_data['user_mapping']\n",
    "restaurant_mapping = meta_data['restaurant_mapping']"
   ]
  },
  {
   "cell_type": "code",
   "execution_count": 14,
   "metadata": {},
   "outputs": [],
   "source": [
    "class GNNEncoder(torch.nn.Module):\n",
    "    def __init__(self, hidden_channels, out_channels):\n",
    "        super().__init__()\n",
    "        self.conv1 = SAGEConv((-1, -1), hidden_channels)\n",
    "        self.conv2 = SAGEConv((-1, -1), out_channels)\n",
    "\n",
    "    def forward(self, x, edge_index):\n",
    "        x = self.conv1(x, edge_index).relu()\n",
    "        x = self.conv2(x, edge_index)\n",
    "        return x\n",
    "\n",
    "\n",
    "class EdgeDecoder(torch.nn.Module):\n",
    "    def __init__(self, hidden_channels):\n",
    "        super().__init__()\n",
    "        self.lin1 = nn.Linear(2 * hidden_channels, hidden_channels)\n",
    "        self.lin2 = nn.Linear(hidden_channels, 1)\n",
    "\n",
    "    def forward(self, z_dict, edge_label_index):\n",
    "        row, col = edge_label_index\n",
    "        z = torch.cat([z_dict['user'][row], z_dict['restaurant'][col]], dim=-1)\n",
    "\n",
    "        z = self.lin1(z).relu()\n",
    "        z = self.lin2(z)\n",
    "        return z.view(-1)\n",
    "\n",
    "class RecoModel(torch.nn.Module):\n",
    "    def __init__(self, hidden_channels):\n",
    "        super().__init__()\n",
    "        self.encoder = GNNEncoder(hidden_channels, hidden_channels)\n",
    "        self.encoder = to_hetero(self.encoder, data.metadata(), aggr='sum')\n",
    "        self.decoder = EdgeDecoder(hidden_channels)\n",
    "\n",
    "    def forward(self, x_dict, edge_index_dict, edge_label_index):\n",
    "        z_dict = self.encoder(x_dict, edge_index_dict)\n",
    "        return self.decoder(z_dict, edge_label_index)"
   ]
  },
  {
   "cell_type": "code",
   "execution_count": 15,
   "metadata": {},
   "outputs": [
    {
     "data": {
      "text/plain": [
       "RecoModel(\n",
       "  (encoder): GraphModule(\n",
       "    (conv1): ModuleDict(\n",
       "      (user__rating__restaurant): SAGEConv((-1, -1), 64, aggr=mean)\n",
       "      (restaurant__rev_rating__user): SAGEConv((-1, -1), 64, aggr=mean)\n",
       "    )\n",
       "    (conv2): ModuleDict(\n",
       "      (user__rating__restaurant): SAGEConv((-1, -1), 64, aggr=mean)\n",
       "      (restaurant__rev_rating__user): SAGEConv((-1, -1), 64, aggr=mean)\n",
       "    )\n",
       "  )\n",
       "  (decoder): EdgeDecoder(\n",
       "    (lin1): Linear(in_features=128, out_features=64, bias=True)\n",
       "    (lin2): Linear(in_features=64, out_features=1, bias=True)\n",
       "  )\n",
       ")"
      ]
     },
     "execution_count": 15,
     "metadata": {},
     "output_type": "execute_result"
    }
   ],
   "source": [
    "model = RecoModel(64)\n",
    "model.load_state_dict(torch.load('output/recommender-yelp-final.pth', map_location=torch.device('cpu'))) \n",
    "model.eval()"
   ]
  },
  {
   "cell_type": "code",
   "execution_count": 37,
   "metadata": {},
   "outputs": [
    {
     "name": "stdout",
     "output_type": "stream",
     "text": [
      "tensor([[    0,     0,     0,  ...,     0,     0,     0],\n",
      "        [    0,     1,     2,  ..., 31214, 31215, 31216]])\n"
     ]
    }
   ],
   "source": [
    "reverse_movie_mapping = dict(zip(restaurant_mapping.values(),restaurant_mapping.keys()))\n",
    "reverse_user_mapping = dict(zip(user_mapping.values(),user_mapping.keys()))\n",
    "\n",
    "results = []\n",
    "\n",
    "for user_id in range(0, 1): \n",
    "\n",
    "    row = torch.tensor([user_id] * num_restaurants)\n",
    "    col = torch.arange(num_restaurants)\n",
    "    edge_label_index = torch.stack([row, col], dim=0)\n",
    "    edge_label_index\n",
    "    \n",
    "    print(edge_label_index)\n",
    "    data.to('cpu')\n",
    "    pred = model(data.x_dict, data.edge_index_dict,\n",
    "                 edge_label_index)\n",
    "    pred = pred.clamp(min=0, max=5)\n",
    "    \n",
    "    user_id_str = reverse_user_mapping[user_id]\n",
    "\n",
    "    mask = (pred == 5).nonzero(as_tuple=True)\n",
    "\n",
    "    ten_predictions = [reverse_movie_mapping[el] for el in  mask[0].tolist()[:10]]\n",
    "    results.append({'user': user_id_str, 'restaurant': ten_predictions})"
   ]
  },
  {
   "cell_type": "code",
   "execution_count": 45,
   "metadata": {},
   "outputs": [
    {
     "data": {
      "text/plain": [
       "tensor([     0,   1878,   5139,  ...,   3514,  48695, 290691])"
      ]
     },
     "execution_count": 45,
     "metadata": {},
     "output_type": "execute_result"
    }
   ],
   "source": [
    "data['user', 'rating', 'restaurant'].edge_index[0]"
   ]
  },
  {
   "cell_type": "code",
   "execution_count": 42,
   "metadata": {},
   "outputs": [
    {
     "data": {
      "text/plain": [
       "[]"
      ]
     },
     "execution_count": 42,
     "metadata": {},
     "output_type": "execute_result"
    }
   ],
   "source": [
    "[x for x in data['user', 'rating', 'restaurant'] if x[0] == 0]"
   ]
  },
  {
   "cell_type": "code",
   "execution_count": 17,
   "metadata": {},
   "outputs": [
    {
     "data": {
      "text/plain": [
       "[{'user': 'mh_-eMZ6K5RLWhZyISBhwA',\n",
       "  'restaurant': ['LGqiubTmpJ-A1L5n7dmc6g',\n",
       "   '_T0cPZE2ZJOTTlYYKMP64Q',\n",
       "   '1E9o1SNo7UTf1XHTFPv1_Q',\n",
       "   'FF45pKN_lzqG8Bqk-_HQvw',\n",
       "   'adATTqggIQX5xxLDISkFTw',\n",
       "   'IazLGcO9aggJnMMa_5UO1Q',\n",
       "   'Xjal8g4PsYinAfeQ8RWf4Q',\n",
       "   'U30ggGzFpXvc2NZYwOW3qg',\n",
       "   'Pb5agnsD9EdCl6yuZp2jJA',\n",
       "   'ruFtZKwlJASx5BTk1dh5AQ']},\n",
       " {'user': 'RreNy--tOmXMl1en0wiBOg',\n",
       "  'restaurant': ['lk9IwjZXqUMqqOhM774DtQ',\n",
       "   'knQ4vIgx-r85kjlWVVjcpQ',\n",
       "   'LGqiubTmpJ-A1L5n7dmc6g',\n",
       "   '1E9o1SNo7UTf1XHTFPv1_Q',\n",
       "   'adATTqggIQX5xxLDISkFTw',\n",
       "   'sophKEDc2rBDe-cuOaJDkA',\n",
       "   '2DsplH_vy4GCcEnVpn0AbA',\n",
       "   'biGIDbCGsAZJ-Y4zyV_b_A',\n",
       "   'lj-E32x9_FA7GmUrBGBEWg',\n",
       "   'IazLGcO9aggJnMMa_5UO1Q']}]"
      ]
     },
     "execution_count": 17,
     "metadata": {},
     "output_type": "execute_result"
    }
   ],
   "source": [
    "results"
   ]
  }
 ],
 "metadata": {
  "kernelspec": {
   "display_name": "venv",
   "language": "python",
   "name": "python3"
  },
  "language_info": {
   "codemirror_mode": {
    "name": "ipython",
    "version": 3
   },
   "file_extension": ".py",
   "mimetype": "text/x-python",
   "name": "python",
   "nbconvert_exporter": "python",
   "pygments_lexer": "ipython3",
   "version": "3.9.10"
  },
  "orig_nbformat": 4
 },
 "nbformat": 4,
 "nbformat_minor": 2
}
