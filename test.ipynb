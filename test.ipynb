{
 "cells": [
  {
   "cell_type": "code",
   "execution_count": 1,
   "metadata": {},
   "outputs": [],
   "source": [
    "import json\n",
    "import networkx as nx\n",
    "import numpy as np\n",
    "import pandas as pd\n",
    "from torch_geometric.data import Data\n",
    "import torch\n",
    "import os"
   ]
  },
  {
   "cell_type": "code",
   "execution_count": 2,
   "metadata": {},
   "outputs": [],
   "source": [
    "# Yelp dataset JSON file paths\n",
    "review_filepath = os.path.join('data', 'yelp', 'yelp_academic_dataset_review.json')\n",
    "business_filepath = os.path.join('data', 'yelp', \"yelp_academic_dataset_business.json\")\n",
    "\n",
    "# Load the first N reviews\n",
    "N = 1000  # You can adjust this value depending on your computation resources\n",
    "reviews = []\n",
    "with open(review_filepath) as f:\n",
    "    for i, line in enumerate(f):\n",
    "        if i == N:\n",
    "            break\n",
    "        reviews.append(json.loads(line))\n",
    "\n",
    "# Convert reviews to pandas DataFrame\n",
    "reviews_df = pd.DataFrame(reviews)\n",
    "\n",
    "# Load the first N businesses\n",
    "N = 1000  # You can adjust this value depending on your computation resources\n",
    "businesses = []\n",
    "with open(business_filepath) as f:\n",
    "    for i, line in enumerate(f):\n",
    "        if i == N:\n",
    "            break\n",
    "        businesses.append(json.loads(line))\n",
    "\n",
    "# Convert businesses to pandas DataFrame\n",
    "businesses_df = pd.DataFrame(businesses)"
   ]
  },
  {
   "cell_type": "code",
   "execution_count": 3,
   "metadata": {},
   "outputs": [],
   "source": [
    "# Merge reviews and businesses based on business_id\n",
    "data = pd.merge(reviews_df, businesses_df, on='business_id', how='inner')\n",
    "\n",
    "# Create a graph using NetworkX\n",
    "graph = nx.Graph()\n",
    "\n",
    "# Add users and businesses to the graph\n",
    "graph.add_nodes_from(data['user_id'], bipartite='user')\n",
    "graph.add_nodes_from(data['business_id'], bipartite='business')\n",
    "\n",
    "# Add edges between users and businesses\n",
    "edges = [(row['user_id'], row['business_id']) for _, row in data.iterrows()]\n",
    "graph.add_edges_from(edges)\n",
    "\n",
    "# Create adjacency matrix from the graph\n",
    "adjacency_matrix = nx.adjacency_matrix(graph)\n",
    "\n",
    "# Convert adjacency matrix to edge index for PyTorch Geometric\n",
    "edge_index = torch.tensor(np.array(adjacency_matrix.nonzero()), dtype=torch.long)\n",
    "\n",
    "# Generate node features and labels (you might need to modify this according to your specific use case)\n",
    "node_features = torch.randn((graph.number_of_nodes(), 16))  # Random node features for this example\n",
    "labels = torch.randint(0, 2, (graph.number_of_nodes(),))  # Random labels for this example\n",
    "\n",
    "# Create PyTorch Geometric data\n",
    "pyg_data = Data(x=node_features, edge_index=edge_index, y=labels)\n"
   ]
  },
  {
   "cell_type": "code",
   "execution_count": 4,
   "metadata": {},
   "outputs": [],
   "source": [
    "import torch\n",
    "import torch.nn.functional as F\n",
    "from torch_geometric.nn import GCNConv\n",
    "from torch_geometric.data import DataLoader\n",
    "\n",
    "# Define the GCN model\n",
    "class GCN(torch.nn.Module):\n",
    "    def __init__(self, num_node_features, num_classes):\n",
    "        super(GCN, self).__init__()\n",
    "        self.conv1 = GCNConv(num_node_features, 16)\n",
    "        self.conv2 = GCNConv(16, num_classes)\n",
    "\n",
    "    def forward(self, data):\n",
    "        x, edge_index = data.x, data.edge_index\n",
    "        x = self.conv1(x, edge_index)\n",
    "        x = F.relu(x)\n",
    "        x = F.dropout(x, training=self.training)\n",
    "        x = self.conv2(x, edge_index)\n",
    "        return F.log_softmax(x, dim=1)\n"
   ]
  },
  {
   "cell_type": "code",
   "execution_count": 5,
   "metadata": {},
   "outputs": [
    {
     "name": "stderr",
     "output_type": "stream",
     "text": [
      "c:\\agh\\MAGISTERKA\\restaurant-recommender\\venv\\lib\\site-packages\\torch_geometric\\deprecation.py:22: UserWarning: 'data.DataLoader' is deprecated, use 'loader.DataLoader' instead\n",
      "  warnings.warn(out)\n"
     ]
    },
    {
     "name": "stdout",
     "output_type": "stream",
     "text": [
      "Epoch: 0, Loss: 0.8351233005523682\n",
      "Epoch: 10, Loss: 0.6655710339546204\n",
      "Epoch: 20, Loss: 0.614723265171051\n",
      "Epoch: 30, Loss: 0.606084406375885\n",
      "Epoch: 40, Loss: 0.5628054738044739\n",
      "Epoch: 50, Loss: 0.5582737922668457\n",
      "Epoch: 60, Loss: 0.5114756226539612\n",
      "Epoch: 70, Loss: 0.5093430876731873\n",
      "Epoch: 80, Loss: 0.4938248097896576\n",
      "Epoch: 90, Loss: 0.45695188641548157\n",
      "Epoch: 100, Loss: 0.4941503703594208\n",
      "Epoch: 110, Loss: 0.4713861048221588\n",
      "Epoch: 120, Loss: 0.4507020115852356\n",
      "Epoch: 130, Loss: 0.4618241488933563\n",
      "Epoch: 140, Loss: 0.4495328664779663\n",
      "Epoch: 150, Loss: 0.4469359815120697\n",
      "Epoch: 160, Loss: 0.42924764752388\n",
      "Epoch: 170, Loss: 0.4566683769226074\n",
      "Epoch: 180, Loss: 0.44306397438049316\n",
      "Epoch: 190, Loss: 0.4562693238258362\n"
     ]
    }
   ],
   "source": [
    "\n",
    "# Initialize the model and optimizer\n",
    "model = GCN(pyg_data.num_node_features, 2)  # Assuming binary classification\n",
    "optimizer = torch.optim.Adam(model.parameters(), lr=0.01, weight_decay=5e-4)\n",
    "\n",
    "# Convert your PyG data into a DataLoader\n",
    "data_loader = DataLoader([pyg_data], batch_size=1, shuffle=True)\n",
    "\n",
    "# Train the model\n",
    "model.train()\n",
    "for epoch in range(200):  # 200 epochs\n",
    "    for batch in data_loader:\n",
    "        optimizer.zero_grad()\n",
    "        out = model(batch)\n",
    "        loss = F.nll_loss(out, batch.y)\n",
    "        loss.backward()\n",
    "        optimizer.step()\n",
    "\n",
    "    \n",
    "    if epoch % 10 == 0:\n",
    "        print(f'Epoch: {epoch}, Loss: {loss.item()}')\n"
   ]
  },
  {
   "cell_type": "code",
   "execution_count": 6,
   "metadata": {},
   "outputs": [
    {
     "data": {
      "text/plain": [
       "Index(['review_id', 'user_id', 'business_id', 'stars', 'useful', 'funny',\n",
       "       'cool', 'text', 'date'],\n",
       "      dtype='object')"
      ]
     },
     "execution_count": 6,
     "metadata": {},
     "output_type": "execute_result"
    }
   ],
   "source": [
    "reviews_df.columns"
   ]
  },
  {
   "cell_type": "code",
   "execution_count": 7,
   "metadata": {},
   "outputs": [],
   "source": [
    "def get_user_features(user_id):\n",
    "    user_features = reviews_df[reviews_df['user_id'] == user_id]['stars'].values.astype(np.float32)\n",
    "    # You can replace 'age', 'average_rating' with your actual user feature columns\n",
    "    return user_features[0] if len(user_features) > 0 else None\n",
    "\n",
    "def get_all_business_features():\n",
    "    business_features = businesses_df[['review_count', 'stars']].values.astype(np.float32)\n",
    "    # You can replace 'number_of_reviews', 'average_stars' with your actual business feature columns\n",
    "    return business_features"
   ]
  },
  {
   "cell_type": "code",
   "execution_count": 8,
   "metadata": {},
   "outputs": [
    {
     "data": {
      "text/plain": [
       "array(['mh_-eMZ6K5RLWhZyISBhwA', 'OyoGAe7OKpv6SyGZT5g77Q',\n",
       "       '8g_iMtfSiwikVnbP2etR0A', '_7bHUi9Uuf5__HHc_Q8guQ',\n",
       "       'bcjbaE6dDog4jkNY91ncLQ', 'eUta8W_HdHMXPzLBBZhL1A',\n",
       "       'r3zeYsv1XFBRA4dJpL78cw', 'yfFzsLmaWF2d4Sr0UNbBgg',\n",
       "       'wSTuiTk-sKNdcFyprzZAjg', '59MxRhNVhU9MYndMkz0wtw',\n",
       "       '1WHRWwQmZOZDAhp2Qyny4g', 'ZbqSHbgCjzVAqaa7NKWn5A',\n",
       "       '9OAtfnWag-ajVxRbUTGIyg', 'smOvOajNG0lS4Pq7d8g4JQ',\n",
       "       '4Uh27DgGzsp6PqrH913giQ', '1C2lxzUo1Hyye4RFIXly3g',\n",
       "       'Dd1jQj7S-BFGqRbApFzCFw', 'j2wlzrntrbKwyOcOiB3l3w',\n",
       "       'NDZvyYHTUWWu-kqgQzzDGQ', 'IQsF3Rc6IgCzjVV9DE8KXg',\n",
       "       'Ohhrhu1RkqfVciIVx_W5HQ', 'WBpQDAZymU0dhIqXcACGNw',\n",
       "       'vrKkXsozqqecF3CW4cGaVQ', 'OhECKhQEexFypOMY6kypRw',\n",
       "       'RreNy--tOmXMl1en0wiBOg'], dtype=object)"
      ]
     },
     "execution_count": 8,
     "metadata": {},
     "output_type": "execute_result"
    }
   ],
   "source": [
    "reviews_df['user_id'].unique()[:25]"
   ]
  },
  {
   "cell_type": "code",
   "execution_count": 9,
   "metadata": {},
   "outputs": [],
   "source": [
    "all_business_ids = businesses_df['business_id'].tolist()"
   ]
  },
  {
   "cell_type": "code",
   "execution_count": 10,
   "metadata": {},
   "outputs": [],
   "source": [
    "def recommend(user_id, model, original_data, all_business_ids):\n",
    "    model.eval()\n",
    "\n",
    "    # Assuming that user_features and business_features are pre-processed and available\n",
    "    user_features = get_user_features(user_id)\n",
    "    business_features = get_all_business_features()\n",
    "\n",
    "    # Assuming that the features are in numpy array, converting them to torch tensors\n",
    "    user_features = torch.tensor(user_features, dtype=torch.float).view(1, -1)\n",
    "    business_features = torch.tensor(business_features, dtype=torch.float)\n",
    "\n",
    "    # Create an input feature matrix combining the user features with each business feature\n",
    "    user_business_features = torch.cat([user_features.repeat(len(business_features), 1), business_features], dim=1)\n",
    "\n",
    "    # We should use the same graph structure (edge_index) as during training\n",
    "    edge_index = original_data.edge_index\n",
    "\n",
    "    # Construct a PyTorch Geometric Data object\n",
    "    data = Data(x=user_business_features, edge_index=edge_index)\n",
    "\n",
    "    # Pass the data through the model\n",
    "    scores = model(data)\n",
    "\n",
    "    # Get the top K business indices\n",
    "    top_k_indices = torch.topk(scores, k=5).indices  # Top-5 businesses\n",
    "\n",
    "    # Get the business IDs for the top indices\n",
    "    top_k_business_ids = [all_business_ids[i] for i in top_k_indices]\n",
    "\n",
    "    return top_k_business_ids\n"
   ]
  },
  {
   "cell_type": "code",
   "execution_count": 11,
   "metadata": {},
   "outputs": [
    {
     "ename": "RuntimeError",
     "evalue": "mat1 and mat2 shapes cannot be multiplied (1000x3 and 16x16)",
     "output_type": "error",
     "traceback": [
      "\u001b[1;31m---------------------------------------------------------------------------\u001b[0m",
      "\u001b[1;31mRuntimeError\u001b[0m                              Traceback (most recent call last)",
      "Cell \u001b[1;32mIn[11], line 1\u001b[0m\n\u001b[1;32m----> 1\u001b[0m recommend(\u001b[39m'\u001b[39;49m\u001b[39mbcjbaE6dDog4jkNY91ncLQ\u001b[39;49m\u001b[39m'\u001b[39;49m, model, pyg_data , all_business_ids)\n",
      "Cell \u001b[1;32mIn[10], line 22\u001b[0m, in \u001b[0;36mrecommend\u001b[1;34m(user_id, model, original_data, all_business_ids)\u001b[0m\n\u001b[0;32m     19\u001b[0m data \u001b[39m=\u001b[39m Data(x\u001b[39m=\u001b[39muser_business_features, edge_index\u001b[39m=\u001b[39medge_index)\n\u001b[0;32m     21\u001b[0m \u001b[39m# Pass the data through the model\u001b[39;00m\n\u001b[1;32m---> 22\u001b[0m scores \u001b[39m=\u001b[39m model(data)\n\u001b[0;32m     24\u001b[0m \u001b[39m# Get the top K business indices\u001b[39;00m\n\u001b[0;32m     25\u001b[0m top_k_indices \u001b[39m=\u001b[39m torch\u001b[39m.\u001b[39mtopk(scores, k\u001b[39m=\u001b[39m\u001b[39m5\u001b[39m)\u001b[39m.\u001b[39mindices  \u001b[39m# Top-5 businesses\u001b[39;00m\n",
      "File \u001b[1;32mc:\\agh\\MAGISTERKA\\restaurant-recommender\\venv\\lib\\site-packages\\torch\\nn\\modules\\module.py:1501\u001b[0m, in \u001b[0;36mModule._call_impl\u001b[1;34m(self, *args, **kwargs)\u001b[0m\n\u001b[0;32m   1496\u001b[0m \u001b[39m# If we don't have any hooks, we want to skip the rest of the logic in\u001b[39;00m\n\u001b[0;32m   1497\u001b[0m \u001b[39m# this function, and just call forward.\u001b[39;00m\n\u001b[0;32m   1498\u001b[0m \u001b[39mif\u001b[39;00m \u001b[39mnot\u001b[39;00m (\u001b[39mself\u001b[39m\u001b[39m.\u001b[39m_backward_hooks \u001b[39mor\u001b[39;00m \u001b[39mself\u001b[39m\u001b[39m.\u001b[39m_backward_pre_hooks \u001b[39mor\u001b[39;00m \u001b[39mself\u001b[39m\u001b[39m.\u001b[39m_forward_hooks \u001b[39mor\u001b[39;00m \u001b[39mself\u001b[39m\u001b[39m.\u001b[39m_forward_pre_hooks\n\u001b[0;32m   1499\u001b[0m         \u001b[39mor\u001b[39;00m _global_backward_pre_hooks \u001b[39mor\u001b[39;00m _global_backward_hooks\n\u001b[0;32m   1500\u001b[0m         \u001b[39mor\u001b[39;00m _global_forward_hooks \u001b[39mor\u001b[39;00m _global_forward_pre_hooks):\n\u001b[1;32m-> 1501\u001b[0m     \u001b[39mreturn\u001b[39;00m forward_call(\u001b[39m*\u001b[39margs, \u001b[39m*\u001b[39m\u001b[39m*\u001b[39mkwargs)\n\u001b[0;32m   1502\u001b[0m \u001b[39m# Do not call functions when jit is used\u001b[39;00m\n\u001b[0;32m   1503\u001b[0m full_backward_hooks, non_full_backward_hooks \u001b[39m=\u001b[39m [], []\n",
      "Cell \u001b[1;32mIn[4], line 15\u001b[0m, in \u001b[0;36mGCN.forward\u001b[1;34m(self, data)\u001b[0m\n\u001b[0;32m     13\u001b[0m \u001b[39mdef\u001b[39;00m \u001b[39mforward\u001b[39m(\u001b[39mself\u001b[39m, data):\n\u001b[0;32m     14\u001b[0m     x, edge_index \u001b[39m=\u001b[39m data\u001b[39m.\u001b[39mx, data\u001b[39m.\u001b[39medge_index\n\u001b[1;32m---> 15\u001b[0m     x \u001b[39m=\u001b[39m \u001b[39mself\u001b[39;49m\u001b[39m.\u001b[39;49mconv1(x, edge_index)\n\u001b[0;32m     16\u001b[0m     x \u001b[39m=\u001b[39m F\u001b[39m.\u001b[39mrelu(x)\n\u001b[0;32m     17\u001b[0m     x \u001b[39m=\u001b[39m F\u001b[39m.\u001b[39mdropout(x, training\u001b[39m=\u001b[39m\u001b[39mself\u001b[39m\u001b[39m.\u001b[39mtraining)\n",
      "File \u001b[1;32mc:\\agh\\MAGISTERKA\\restaurant-recommender\\venv\\lib\\site-packages\\torch\\nn\\modules\\module.py:1501\u001b[0m, in \u001b[0;36mModule._call_impl\u001b[1;34m(self, *args, **kwargs)\u001b[0m\n\u001b[0;32m   1496\u001b[0m \u001b[39m# If we don't have any hooks, we want to skip the rest of the logic in\u001b[39;00m\n\u001b[0;32m   1497\u001b[0m \u001b[39m# this function, and just call forward.\u001b[39;00m\n\u001b[0;32m   1498\u001b[0m \u001b[39mif\u001b[39;00m \u001b[39mnot\u001b[39;00m (\u001b[39mself\u001b[39m\u001b[39m.\u001b[39m_backward_hooks \u001b[39mor\u001b[39;00m \u001b[39mself\u001b[39m\u001b[39m.\u001b[39m_backward_pre_hooks \u001b[39mor\u001b[39;00m \u001b[39mself\u001b[39m\u001b[39m.\u001b[39m_forward_hooks \u001b[39mor\u001b[39;00m \u001b[39mself\u001b[39m\u001b[39m.\u001b[39m_forward_pre_hooks\n\u001b[0;32m   1499\u001b[0m         \u001b[39mor\u001b[39;00m _global_backward_pre_hooks \u001b[39mor\u001b[39;00m _global_backward_hooks\n\u001b[0;32m   1500\u001b[0m         \u001b[39mor\u001b[39;00m _global_forward_hooks \u001b[39mor\u001b[39;00m _global_forward_pre_hooks):\n\u001b[1;32m-> 1501\u001b[0m     \u001b[39mreturn\u001b[39;00m forward_call(\u001b[39m*\u001b[39margs, \u001b[39m*\u001b[39m\u001b[39m*\u001b[39mkwargs)\n\u001b[0;32m   1502\u001b[0m \u001b[39m# Do not call functions when jit is used\u001b[39;00m\n\u001b[0;32m   1503\u001b[0m full_backward_hooks, non_full_backward_hooks \u001b[39m=\u001b[39m [], []\n",
      "File \u001b[1;32mc:\\agh\\MAGISTERKA\\restaurant-recommender\\venv\\lib\\site-packages\\torch_geometric\\nn\\conv\\gcn_conv.py:229\u001b[0m, in \u001b[0;36mGCNConv.forward\u001b[1;34m(self, x, edge_index, edge_weight)\u001b[0m\n\u001b[0;32m    226\u001b[0m         \u001b[39melse\u001b[39;00m:\n\u001b[0;32m    227\u001b[0m             edge_index \u001b[39m=\u001b[39m cache\n\u001b[1;32m--> 229\u001b[0m x \u001b[39m=\u001b[39m \u001b[39mself\u001b[39;49m\u001b[39m.\u001b[39;49mlin(x)\n\u001b[0;32m    231\u001b[0m \u001b[39m# propagate_type: (x: Tensor, edge_weight: OptTensor)\u001b[39;00m\n\u001b[0;32m    232\u001b[0m out \u001b[39m=\u001b[39m \u001b[39mself\u001b[39m\u001b[39m.\u001b[39mpropagate(edge_index, x\u001b[39m=\u001b[39mx, edge_weight\u001b[39m=\u001b[39medge_weight,\n\u001b[0;32m    233\u001b[0m                      size\u001b[39m=\u001b[39m\u001b[39mNone\u001b[39;00m)\n",
      "File \u001b[1;32mc:\\agh\\MAGISTERKA\\restaurant-recommender\\venv\\lib\\site-packages\\torch\\nn\\modules\\module.py:1501\u001b[0m, in \u001b[0;36mModule._call_impl\u001b[1;34m(self, *args, **kwargs)\u001b[0m\n\u001b[0;32m   1496\u001b[0m \u001b[39m# If we don't have any hooks, we want to skip the rest of the logic in\u001b[39;00m\n\u001b[0;32m   1497\u001b[0m \u001b[39m# this function, and just call forward.\u001b[39;00m\n\u001b[0;32m   1498\u001b[0m \u001b[39mif\u001b[39;00m \u001b[39mnot\u001b[39;00m (\u001b[39mself\u001b[39m\u001b[39m.\u001b[39m_backward_hooks \u001b[39mor\u001b[39;00m \u001b[39mself\u001b[39m\u001b[39m.\u001b[39m_backward_pre_hooks \u001b[39mor\u001b[39;00m \u001b[39mself\u001b[39m\u001b[39m.\u001b[39m_forward_hooks \u001b[39mor\u001b[39;00m \u001b[39mself\u001b[39m\u001b[39m.\u001b[39m_forward_pre_hooks\n\u001b[0;32m   1499\u001b[0m         \u001b[39mor\u001b[39;00m _global_backward_pre_hooks \u001b[39mor\u001b[39;00m _global_backward_hooks\n\u001b[0;32m   1500\u001b[0m         \u001b[39mor\u001b[39;00m _global_forward_hooks \u001b[39mor\u001b[39;00m _global_forward_pre_hooks):\n\u001b[1;32m-> 1501\u001b[0m     \u001b[39mreturn\u001b[39;00m forward_call(\u001b[39m*\u001b[39margs, \u001b[39m*\u001b[39m\u001b[39m*\u001b[39mkwargs)\n\u001b[0;32m   1502\u001b[0m \u001b[39m# Do not call functions when jit is used\u001b[39;00m\n\u001b[0;32m   1503\u001b[0m full_backward_hooks, non_full_backward_hooks \u001b[39m=\u001b[39m [], []\n",
      "File \u001b[1;32mc:\\agh\\MAGISTERKA\\restaurant-recommender\\venv\\lib\\site-packages\\torch_geometric\\nn\\dense\\linear.py:132\u001b[0m, in \u001b[0;36mLinear.forward\u001b[1;34m(self, x)\u001b[0m\n\u001b[0;32m    127\u001b[0m \u001b[39mdef\u001b[39;00m \u001b[39mforward\u001b[39m(\u001b[39mself\u001b[39m, x: Tensor) \u001b[39m-\u001b[39m\u001b[39m>\u001b[39m Tensor:\n\u001b[0;32m    128\u001b[0m \u001b[39m    \u001b[39m\u001b[39mr\u001b[39m\u001b[39m\"\"\"\u001b[39;00m\n\u001b[0;32m    129\u001b[0m \u001b[39m    Args:\u001b[39;00m\n\u001b[0;32m    130\u001b[0m \u001b[39m        x (torch.Tensor): The input features.\u001b[39;00m\n\u001b[0;32m    131\u001b[0m \u001b[39m    \"\"\"\u001b[39;00m\n\u001b[1;32m--> 132\u001b[0m     \u001b[39mreturn\u001b[39;00m F\u001b[39m.\u001b[39;49mlinear(x, \u001b[39mself\u001b[39;49m\u001b[39m.\u001b[39;49mweight, \u001b[39mself\u001b[39;49m\u001b[39m.\u001b[39;49mbias)\n",
      "\u001b[1;31mRuntimeError\u001b[0m: mat1 and mat2 shapes cannot be multiplied (1000x3 and 16x16)"
     ]
    }
   ],
   "source": [
    "recommend('bcjbaE6dDog4jkNY91ncLQ', model, pyg_data , all_business_ids)"
   ]
  },
  {
   "cell_type": "code",
   "execution_count": null,
   "metadata": {},
   "outputs": [],
   "source": []
  }
 ],
 "metadata": {
  "kernelspec": {
   "display_name": "venv",
   "language": "python",
   "name": "python3"
  },
  "language_info": {
   "codemirror_mode": {
    "name": "ipython",
    "version": 3
   },
   "file_extension": ".py",
   "mimetype": "text/x-python",
   "name": "python",
   "nbconvert_exporter": "python",
   "pygments_lexer": "ipython3",
   "version": "3.9.10"
  },
  "orig_nbformat": 4
 },
 "nbformat": 4,
 "nbformat_minor": 2
}
